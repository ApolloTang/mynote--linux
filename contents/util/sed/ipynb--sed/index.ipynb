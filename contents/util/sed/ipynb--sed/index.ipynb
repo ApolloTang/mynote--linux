{
 "cells": [
  {
   "cell_type": "markdown",
   "id": "a42e2857-e0c7-48a4-93c1-174597b86ed1",
   "metadata": {},
   "source": [
    "## Sed oneliner example:"
   ]
  },
  {
   "cell_type": "code",
   "execution_count": 3,
   "id": "8989470c-b4d4-4427-a028-f0bfd75f73aa",
   "metadata": {},
   "outputs": [
    {
     "name": "stdout",
     "output_type": "stream",
     "text": [
      "ONE two three\n"
     ]
    }
   ],
   "source": [
    "%%bash\n",
    "echo 'one two three' | sed 's/one/ONE/g'"
   ]
  },
  {
   "cell_type": "markdown",
   "id": "b7ba1095-f123-431d-a31a-d43d39b40ab7",
   "metadata": {},
   "source": [
    "## Delimiter \n",
    "Instead of `/` you can other other character as delimiter to make it easier to read:"
   ]
  },
  {
   "cell_type": "code",
   "execution_count": 6,
   "id": "a081010c-218b-4b50-bd34-85d22ad2e1bf",
   "metadata": {},
   "outputs": [
    {
     "name": "stdout",
     "output_type": "stream",
     "text": [
      "/xxx/yyy/ccc/ddd/\n"
     ]
    }
   ],
   "source": [
    "%%bash\n",
    "echo '/aaa/bbb/ccc/ddd/' | sed 's/\\/aaa\\/bbb/\\/xxx\\/yyy/'"
   ]
  },
  {
   "cell_type": "code",
   "execution_count": 7,
   "id": "4f49c9e3-a0b8-4319-9937-08dfe305863e",
   "metadata": {},
   "outputs": [
    {
     "name": "stdout",
     "output_type": "stream",
     "text": [
      "/xxx/yyy/ccc/ddd/\n"
     ]
    }
   ],
   "source": [
    "%%bash\n",
    "echo '/aaa/bbb/ccc/ddd/' | sed 's:\\/aaa\\/bbb:\\/xxx\\/yyy:'"
   ]
  },
  {
   "cell_type": "markdown",
   "id": "529fa4f8-cb52-4331-92fa-822411c3898f",
   "metadata": {},
   "source": [
    "You can use any character as the delimiter as long as it is not part of the search pattern."
   ]
  },
  {
   "cell_type": "code",
   "execution_count": null,
   "id": "41861d48-bc30-435e-a872-2a688bdbceb1",
   "metadata": {},
   "outputs": [],
   "source": []
  },
  {
   "cell_type": "code",
   "execution_count": null,
   "id": "1917b6ac-d5ce-4240-b1d3-be4b2a94dfd2",
   "metadata": {},
   "outputs": [],
   "source": []
  }
 ],
 "metadata": {
  "kernelspec": {
   "display_name": "Python 3 (ipykernel)",
   "language": "python",
   "name": "python3"
  },
  "language_info": {
   "codemirror_mode": {
    "name": "ipython",
    "version": 3
   },
   "file_extension": ".py",
   "mimetype": "text/x-python",
   "name": "python",
   "nbconvert_exporter": "python",
   "pygments_lexer": "ipython3",
   "version": "3.12.3"
  }
 },
 "nbformat": 4,
 "nbformat_minor": 5
}
