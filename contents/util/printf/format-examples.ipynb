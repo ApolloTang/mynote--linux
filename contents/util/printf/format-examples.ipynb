{
 "cells": [
  {
   "cell_type": "markdown",
   "id": "d5c631fb-b92d-49af-988f-19415ab8e322",
   "metadata": {},
   "source": [
    "## ---- "
   ]
  },
  {
   "cell_type": "markdown",
   "id": "b847859f-a5f4-4596-86e9-2f96cb430641",
   "metadata": {},
   "source": [
    "`%05d` \n",
    "- `%__d`: display number supply to the argument in base 10\n",
    "- `%_5_`: limit minimum field width to 5\n",
    "- `%0__`: zero pad left of display output with zero"
   ]
  },
  {
   "cell_type": "markdown",
   "id": "538fee56-b285-472e-8312-eef449f90f9a",
   "metadata": {},
   "source": [
    "In the following example, the output is less than the specified minimum field width, so it is left padded with zero:"
   ]
  },
  {
   "cell_type": "code",
   "execution_count": 56,
   "id": "ec299b6b-27a6-4658-99eb-45b2694523d0",
   "metadata": {},
   "outputs": [
    {
     "name": "stdout",
     "output_type": "stream",
     "text": [
      "|12345| <-- field width of 5 characters\n",
      "|00888|\n"
     ]
    }
   ],
   "source": [
    "echo \"|12345| <-- field width of 5 characters\"\n",
    "gprintf \"|%05d|\" 888"
   ]
  },
  {
   "cell_type": "markdown",
   "id": "6e9d9684-609a-46d4-b0e9-9cda73d61341",
   "metadata": {},
   "source": [
    "In the following example, the output is longer than the specified minimum field width, so it is displayed as it is:"
   ]
  },
  {
   "cell_type": "code",
   "execution_count": 57,
   "id": "23b844f3-e684-4da5-821f-3e8bad5e7dbe",
   "metadata": {},
   "outputs": [
    {
     "name": "stdout",
     "output_type": "stream",
     "text": [
      "|12345| <-- field width of 5 characters\n",
      "|123456789|\n"
     ]
    }
   ],
   "source": [
    "echo \"|12345| <-- field width of 5 characters\"\n",
    "gprintf \"|%05d|\" 123456789 # input exceed minimum field width of 5"
   ]
  },
  {
   "cell_type": "markdown",
   "id": "accf8485-8372-42b6-9330-c3e481418b68",
   "metadata": {},
   "source": [
    "## ---- "
   ]
  },
  {
   "cell_type": "markdown",
   "id": "a6dea56f-b11b-45d9-a6c8-817939d3ffe1",
   "metadata": {},
   "source": [
    "If precision is given (eg: `%__.1_`) when displaying integer numeric conversion (`d, i, o, u, x, and X`), the `%0____` flag is ignored: \n",
    "\n",
    "`%08.3d` \n",
    "- `%____d`: display number supply to the argument in base 10\n",
    "- `%_8___`: limit minimum field width to 8\n",
    "- `%__.1_`: precision after decimal is 1\n",
    "- `%0____`: zero pad left of display output with zero (ignored)\n"
   ]
  },
  {
   "cell_type": "code",
   "execution_count": 76,
   "id": "dfe191ee-9eb6-41fe-a1cd-1a984976d076",
   "metadata": {},
   "outputs": [
    {
     "name": "stdout",
     "output_type": "stream",
     "text": [
      "|12345678| <-- field width of 8 characters\n",
      "|      88|\n"
     ]
    }
   ],
   "source": [
    "echo \"|12345678| <-- field width of 8 characters\"\n",
    "gprintf \"|%08.1d|\" 88 "
   ]
  },
  {
   "cell_type": "markdown",
   "id": "51a901b1-65a7-49c4-873e-1a16291696e1",
   "metadata": {},
   "source": [
    "Here is an example with `%____f`, where left-padding, `%0____`, is obey: \n",
    "\n",
    "`%08.3f` \n",
    "- `%____f`: display number supply to argument in base 10 with the style [-]ddd.ddd\n",
    "- `%_8___`: limit minimum field width to 8\n",
    "- `%__.1_`: precision after decimal is 1\n",
    "- `%0____`: zero pad left of display output with zero (ignored)"
   ]
  },
  {
   "cell_type": "code",
   "execution_count": 77,
   "id": "2be20c91-70a4-4eb2-a3b0-41ba331b2e20",
   "metadata": {},
   "outputs": [
    {
     "name": "stdout",
     "output_type": "stream",
     "text": [
      "|12345678| <-- field width of 8 characters\n",
      "|000088.0|\n"
     ]
    }
   ],
   "source": [
    "echo \"|12345678| <-- field width of 8 characters\"\n",
    "gprintf \"|%08.1f|\" 88 "
   ]
  },
  {
   "cell_type": "code",
   "execution_count": null,
   "id": "5ede4dd9-5a7c-41e9-965e-c7d878582414",
   "metadata": {},
   "outputs": [],
   "source": []
  }
 ],
 "metadata": {
  "kernelspec": {
   "display_name": "Bash",
   "language": "bash",
   "name": "bash"
  },
  "language_info": {
   "codemirror_mode": "shell",
   "file_extension": ".sh",
   "mimetype": "text/x-sh",
   "name": "bash"
  }
 },
 "nbformat": 4,
 "nbformat_minor": 5
}
